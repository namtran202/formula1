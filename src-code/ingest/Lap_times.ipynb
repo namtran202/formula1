{
 "cells": [
  {
   "cell_type": "code",
   "execution_count": 1,
   "metadata": {},
   "outputs": [],
   "source": [
    "from pyspark.sql import SparkSession\n",
    "spark = SparkSession.builder.appName('circuits').getOrCreate()"
   ]
  },
  {
   "cell_type": "code",
   "execution_count": 2,
   "metadata": {},
   "outputs": [],
   "source": [
    "from pyspark.sql.types import StructType, StructField, StringType, IntegerType"
   ]
  },
  {
   "cell_type": "code",
   "execution_count": 3,
   "metadata": {},
   "outputs": [],
   "source": [
    "lap_times_schema = StructType([StructField(\"raceId\", IntegerType(), False),\n",
    "                             StructField(\"driverId\", IntegerType(), True),\n",
    "                             StructField(\"lap\", IntegerType(), True),\n",
    "                             StructField(\"time\", StringType(), True),\n",
    "                             StructField(\"duration\", StringType(), True),\n",
    "                             StructField(\"milliseconds\", IntegerType(), True)])"
   ]
  },
  {
   "cell_type": "code",
   "execution_count": 4,
   "metadata": {},
   "outputs": [],
   "source": [
    "lap_times_df = spark.read.csv('../../raw/lap_times/', schema=lap_times_schema)"
   ]
  },
  {
   "cell_type": "code",
   "execution_count": 5,
   "metadata": {},
   "outputs": [
    {
     "name": "stdout",
     "output_type": "stream",
     "text": [
      "+------+--------+---+----+--------+------------+\n",
      "|raceId|driverId|lap|time|duration|milliseconds|\n",
      "+------+--------+---+----+--------+------------+\n",
      "|   841|      20|  1|   1|1:38.109|       98109|\n",
      "|   841|      20|  2|   1|1:33.006|       93006|\n",
      "|   841|      20|  3|   1|1:32.713|       92713|\n",
      "|   841|      20|  4|   1|1:32.803|       92803|\n",
      "|   841|      20|  5|   1|1:32.342|       92342|\n",
      "+------+--------+---+----+--------+------------+\n",
      "only showing top 5 rows\n",
      "\n"
     ]
    }
   ],
   "source": [
    "lap_times_df.show(5)"
   ]
  },
  {
   "cell_type": "code",
   "execution_count": 7,
   "metadata": {},
   "outputs": [],
   "source": [
    "from pyspark.sql.functions import current_timestamp"
   ]
  },
  {
   "cell_type": "code",
   "execution_count": 8,
   "metadata": {},
   "outputs": [],
   "source": [
    "lap_times_df = lap_times_df.withColumn('ingestion_date', current_timestamp()) \\\n",
    "                            .withColumnRenamed('raceId', 'race_id') \\\n",
    "                            .withColumnRenamed('driverId', 'driver_id')"
   ]
  },
  {
   "cell_type": "code",
   "execution_count": 9,
   "metadata": {},
   "outputs": [
    {
     "name": "stdout",
     "output_type": "stream",
     "text": [
      "+-------+---------+---+----+--------+------------+--------------------+\n",
      "|race_id|driver_id|lap|time|duration|milliseconds|      ingestion_date|\n",
      "+-------+---------+---+----+--------+------------+--------------------+\n",
      "|    841|       20|  1|   1|1:38.109|       98109|2022-03-16 14:41:...|\n",
      "|    841|       20|  2|   1|1:33.006|       93006|2022-03-16 14:41:...|\n",
      "|    841|       20|  3|   1|1:32.713|       92713|2022-03-16 14:41:...|\n",
      "|    841|       20|  4|   1|1:32.803|       92803|2022-03-16 14:41:...|\n",
      "|    841|       20|  5|   1|1:32.342|       92342|2022-03-16 14:41:...|\n",
      "+-------+---------+---+----+--------+------------+--------------------+\n",
      "only showing top 5 rows\n",
      "\n"
     ]
    }
   ],
   "source": [
    "lap_times_df.show(5)"
   ]
  },
  {
   "cell_type": "code",
   "execution_count": 10,
   "metadata": {},
   "outputs": [],
   "source": [
    "lap_times_df.write.mode('overwrite').parquet('../../processed/lap_times')"
   ]
  },
  {
   "cell_type": "code",
   "execution_count": 11,
   "metadata": {},
   "outputs": [
    {
     "name": "stdout",
     "output_type": "stream",
     "text": [
      "+-------+---------+---+----+--------+------------+--------------------+\n",
      "|race_id|driver_id|lap|time|duration|milliseconds|      ingestion_date|\n",
      "+-------+---------+---+----+--------+------------+--------------------+\n",
      "|     67|       14| 26|  13|1:25.802|       85802|2022-03-16 14:42:...|\n",
      "|     67|       14| 27|  13|1:25.338|       85338|2022-03-16 14:42:...|\n",
      "|     67|       14| 28|  13|1:25.395|       85395|2022-03-16 14:42:...|\n",
      "|     67|       14| 29|  12|1:26.191|       86191|2022-03-16 14:42:...|\n",
      "|     67|       14| 30|  11|1:25.439|       85439|2022-03-16 14:42:...|\n",
      "+-------+---------+---+----+--------+------------+--------------------+\n",
      "only showing top 5 rows\n",
      "\n"
     ]
    }
   ],
   "source": [
    "# Test\n",
    "lap_times = spark.read.parquet('../../processed/lap_times/', header=True)\n",
    "lap_times.show(5)"
   ]
  },
  {
   "cell_type": "code",
   "execution_count": null,
   "metadata": {},
   "outputs": [],
   "source": []
  }
 ],
 "metadata": {
  "kernelspec": {
   "display_name": "Python 3",
   "language": "python",
   "name": "python3"
  },
  "language_info": {
   "codemirror_mode": {
    "name": "ipython",
    "version": 3
   },
   "file_extension": ".py",
   "mimetype": "text/x-python",
   "name": "python",
   "nbconvert_exporter": "python",
   "pygments_lexer": "ipython3",
   "version": "3.8.5"
  }
 },
 "nbformat": 4,
 "nbformat_minor": 4
}
