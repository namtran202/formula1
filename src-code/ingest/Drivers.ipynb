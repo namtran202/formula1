{
 "cells": [
  {
   "cell_type": "code",
   "execution_count": 27,
   "metadata": {},
   "outputs": [],
   "source": [
    "from pyspark.sql import SparkSession\n",
    "spark = SparkSession.builder.appName('drivers').getOrCreate()"
   ]
  },
  {
   "cell_type": "code",
   "execution_count": 28,
   "metadata": {},
   "outputs": [],
   "source": [
    "from pyspark.sql.types import StructType, StructField, StringType, IntegerType, DateType"
   ]
  },
  {
   "cell_type": "code",
   "execution_count": 41,
   "metadata": {},
   "outputs": [],
   "source": [
    "name_schema = StructType([StructField(\"forename\", StringType(), False),\n",
    "                             StructField(\"surname\", StringType(), False)])\n",
    "\n",
    "drivers_schema = StructType([StructField(\"driverId\", IntegerType(), False),\n",
    "                             StructField(\"driverRef\", StringType(), False),\n",
    "                             StructField(\"number\", IntegerType(), False),\n",
    "                             StructField(\"code\", StringType(), False),\n",
    "                             StructField(\"name\", name_schema),\n",
    "                             StructField(\"dob\", DateType(), False),\n",
    "                             StructField(\"nationality\", StringType(), False),\n",
    "                             StructField(\"url\", StringType(), False)])"
   ]
  },
  {
   "cell_type": "code",
   "execution_count": 42,
   "metadata": {},
   "outputs": [],
   "source": [
    "drivers_df = spark.read.json('../../raw/drivers.json', schema=drivers_schema)"
   ]
  },
  {
   "cell_type": "code",
   "execution_count": 43,
   "metadata": {},
   "outputs": [
    {
     "name": "stdout",
     "output_type": "stream",
     "text": [
      "+--------+----------+------+----+--------------------+----------+-----------+--------------------+\n",
      "|driverId| driverRef|number|code|                name|       dob|nationality|                 url|\n",
      "+--------+----------+------+----+--------------------+----------+-----------+--------------------+\n",
      "|       1|  hamilton|    44| HAM|   {Lewis, Hamilton}|1985-01-07|    British|http://en.wikiped...|\n",
      "|       2|  heidfeld|  null| HEI|    {Nick, Heidfeld}|1977-05-10|     German|http://en.wikiped...|\n",
      "|       3|   rosberg|     6| ROS|     {Nico, Rosberg}|1985-06-27|     German|http://en.wikiped...|\n",
      "|       4|    alonso|    14| ALO|  {Fernando, Alonso}|1981-07-29|    Spanish|http://en.wikiped...|\n",
      "|       5|kovalainen|  null| KOV|{Heikki, Kovalainen}|1981-10-19|    Finnish|http://en.wikiped...|\n",
      "+--------+----------+------+----+--------------------+----------+-----------+--------------------+\n",
      "only showing top 5 rows\n",
      "\n"
     ]
    }
   ],
   "source": [
    "drivers_df.show(5)"
   ]
  },
  {
   "cell_type": "code",
   "execution_count": 44,
   "metadata": {},
   "outputs": [
    {
     "name": "stdout",
     "output_type": "stream",
     "text": [
      "root\n",
      " |-- driverId: integer (nullable = true)\n",
      " |-- driverRef: string (nullable = true)\n",
      " |-- number: integer (nullable = true)\n",
      " |-- code: string (nullable = true)\n",
      " |-- name: struct (nullable = true)\n",
      " |    |-- forename: string (nullable = true)\n",
      " |    |-- surname: string (nullable = true)\n",
      " |-- dob: date (nullable = true)\n",
      " |-- nationality: string (nullable = true)\n",
      " |-- url: string (nullable = true)\n",
      "\n"
     ]
    }
   ],
   "source": [
    "drivers_df.printSchema()"
   ]
  },
  {
   "cell_type": "code",
   "execution_count": 45,
   "metadata": {},
   "outputs": [],
   "source": [
    "from pyspark.sql.functions import current_timestamp, concat, lit, col"
   ]
  },
  {
   "cell_type": "code",
   "execution_count": 46,
   "metadata": {},
   "outputs": [],
   "source": [
    "drivers_df = drivers_df.withColumnRenamed('driverId', 'driver_id') \\\n",
    "                        .withColumnRenamed('driverRef', 'driver_ref') \\\n",
    "                        .withColumn('ingestion_date', current_timestamp()) \\\n",
    "                        .drop('url') "
   ]
  },
  {
   "cell_type": "code",
   "execution_count": 49,
   "metadata": {},
   "outputs": [],
   "source": [
    "drivers_df = drivers_df.withColumn('name', concat(col('name.forename'), lit(' '), col('name.surname'))) "
   ]
  },
  {
   "cell_type": "code",
   "execution_count": 50,
   "metadata": {},
   "outputs": [
    {
     "name": "stdout",
     "output_type": "stream",
     "text": [
      "+---------+----------+------+----+-----------------+----------+-----------+--------------------+\n",
      "|driver_id|driver_ref|number|code|             name|       dob|nationality|      ingestion_date|\n",
      "+---------+----------+------+----+-----------------+----------+-----------+--------------------+\n",
      "|        1|  hamilton|    44| HAM|   Lewis Hamilton|1985-01-07|    British|2022-03-14 15:30:...|\n",
      "|        2|  heidfeld|  null| HEI|    Nick Heidfeld|1977-05-10|     German|2022-03-14 15:30:...|\n",
      "|        3|   rosberg|     6| ROS|     Nico Rosberg|1985-06-27|     German|2022-03-14 15:30:...|\n",
      "|        4|    alonso|    14| ALO|  Fernando Alonso|1981-07-29|    Spanish|2022-03-14 15:30:...|\n",
      "|        5|kovalainen|  null| KOV|Heikki Kovalainen|1981-10-19|    Finnish|2022-03-14 15:30:...|\n",
      "+---------+----------+------+----+-----------------+----------+-----------+--------------------+\n",
      "only showing top 5 rows\n",
      "\n"
     ]
    }
   ],
   "source": [
    "drivers_df.show(5)"
   ]
  },
  {
   "cell_type": "code",
   "execution_count": 51,
   "metadata": {},
   "outputs": [],
   "source": [
    "drivers_df.write.mode('overwrite').parquet('../../processed/drivers')"
   ]
  },
  {
   "cell_type": "code",
   "execution_count": 54,
   "metadata": {},
   "outputs": [],
   "source": [
    "drivers = spark.read.parquet('../../processed/drivers/')"
   ]
  },
  {
   "cell_type": "code",
   "execution_count": null,
   "metadata": {},
   "outputs": [
    {
     "name": "stdout",
     "output_type": "stream",
     "text": [
      "+---------+----------+------+----+-----------------+----------+-----------+--------------------+\n",
      "|driver_id|driver_ref|number|code|             name|       dob|nationality|      ingestion_date|\n",
      "+---------+----------+------+----+-----------------+----------+-----------+--------------------+\n",
      "|        1|  hamilton|    44| HAM|   Lewis Hamilton|1985-01-07|    British|2022-03-14 15:35:...|\n",
      "|        2|  heidfeld|  null| HEI|    Nick Heidfeld|1977-05-10|     German|2022-03-14 15:35:...|\n",
      "|        3|   rosberg|     6| ROS|     Nico Rosberg|1985-06-27|     German|2022-03-14 15:35:...|\n",
      "|        4|    alonso|    14| ALO|  Fernando Alonso|1981-07-29|    Spanish|2022-03-14 15:35:...|\n",
      "|        5|kovalainen|  null| KOV|Heikki Kovalainen|1981-10-19|    Finnish|2022-03-14 15:35:...|\n",
      "+---------+----------+------+----+-----------------+----------+-----------+--------------------+\n",
      "only showing top 5 rows\n",
      "\n"
     ]
    }
   ],
   "source": [
    "drivers.show(5)"
   ]
  }
 ],
 "metadata": {
  "kernelspec": {
   "display_name": "Python 3",
   "language": "python",
   "name": "python3"
  },
  "language_info": {
   "codemirror_mode": {
    "name": "ipython",
    "version": 3
   },
   "file_extension": ".py",
   "mimetype": "text/x-python",
   "name": "python",
   "nbconvert_exporter": "python",
   "pygments_lexer": "ipython3",
   "version": "3.8.5"
  }
 },
 "nbformat": 4,
 "nbformat_minor": 4
}
