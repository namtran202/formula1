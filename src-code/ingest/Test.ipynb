{
 "cells": [
  {
   "cell_type": "code",
   "execution_count": 6,
   "metadata": {},
   "outputs": [],
   "source": [
    "from pyspark.sql import SparkSession\n",
    "spark = SparkSession.builder.appName('circuits').getOrCreate()"
   ]
  },
  {
   "cell_type": "code",
   "execution_count": 7,
   "metadata": {},
   "outputs": [],
   "source": [
    "circuits_df2 = spark.read.parquet('../../processed/circuits/', header=True)"
   ]
  },
  {
   "cell_type": "code",
   "execution_count": 8,
   "metadata": {},
   "outputs": [
    {
     "name": "stdout",
     "output_type": "stream",
     "text": [
      "+----------+-----------+--------------------+------------+---------+--------+-------+--------+--------------------+\n",
      "|circuit_id|circuit_ref|                name|    location|  country|latitude|    lng|altitude|      ingestion_date|\n",
      "+----------+-----------+--------------------+------------+---------+--------+-------+--------+--------------------+\n",
      "|         1|albert_park|Albert Park Grand...|   Melbourne|Australia|-37.8497|144.968|      10|2022-03-14 12:29:...|\n",
      "|         2|     sepang|Sepang Internatio...|Kuala Lumpur| Malaysia| 2.76083|101.738|      18|2022-03-14 12:29:...|\n",
      "|         3|    bahrain|Bahrain Internati...|      Sakhir|  Bahrain| 26.0325|50.5106|       7|2022-03-14 12:29:...|\n",
      "|         4|  catalunya|Circuit de Barcel...|    Montmeló|    Spain|   41.57|2.26111|     109|2022-03-14 12:29:...|\n",
      "|         5|   istanbul|       Istanbul Park|    Istanbul|   Turkey| 40.9517| 29.405|     130|2022-03-14 12:29:...|\n",
      "+----------+-----------+--------------------+------------+---------+--------+-------+--------+--------------------+\n",
      "only showing top 5 rows\n",
      "\n"
     ]
    }
   ],
   "source": [
    "circuits_df2.show(5)"
   ]
  },
  {
   "cell_type": "code",
   "execution_count": 9,
   "metadata": {},
   "outputs": [],
   "source": [
    "drivers = spark.read.parquet('../../processed/drivers/')"
   ]
  },
  {
   "cell_type": "code",
   "execution_count": 10,
   "metadata": {},
   "outputs": [
    {
     "name": "stdout",
     "output_type": "stream",
     "text": [
      "+---------+----------+------+----+-----------------+----------+-----------+--------------------+\n",
      "|driver_id|driver_ref|number|code|             name|       dob|nationality|      ingestion_date|\n",
      "+---------+----------+------+----+-----------------+----------+-----------+--------------------+\n",
      "|        1|  hamilton|    44| HAM|   Lewis Hamilton|1985-01-07|    British|2022-03-14 15:57:...|\n",
      "|        2|  heidfeld|  null| HEI|    Nick Heidfeld|1977-05-10|     German|2022-03-14 15:57:...|\n",
      "|        3|   rosberg|     6| ROS|     Nico Rosberg|1985-06-27|     German|2022-03-14 15:57:...|\n",
      "|        4|    alonso|    14| ALO|  Fernando Alonso|1981-07-29|    Spanish|2022-03-14 15:57:...|\n",
      "|        5|kovalainen|  null| KOV|Heikki Kovalainen|1981-10-19|    Finnish|2022-03-14 15:57:...|\n",
      "+---------+----------+------+----+-----------------+----------+-----------+--------------------+\n",
      "only showing top 5 rows\n",
      "\n"
     ]
    }
   ],
   "source": [
    "drivers.show(5)"
   ]
  },
  {
   "cell_type": "code",
   "execution_count": null,
   "metadata": {},
   "outputs": [],
   "source": []
  }
 ],
 "metadata": {
  "kernelspec": {
   "display_name": "Python 3",
   "language": "python",
   "name": "python3"
  },
  "language_info": {
   "codemirror_mode": {
    "name": "ipython",
    "version": 3
   },
   "file_extension": ".py",
   "mimetype": "text/x-python",
   "name": "python",
   "nbconvert_exporter": "python",
   "pygments_lexer": "ipython3",
   "version": "3.8.5"
  }
 },
 "nbformat": 4,
 "nbformat_minor": 4
}
