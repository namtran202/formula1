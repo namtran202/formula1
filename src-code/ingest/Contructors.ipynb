{
 "cells": [
  {
   "cell_type": "code",
   "execution_count": 1,
   "metadata": {},
   "outputs": [],
   "source": [
    "from pyspark.sql import SparkSession\n",
    "spark = SparkSession.builder.appName('constructors').getOrCreate()"
   ]
  },
  {
   "cell_type": "code",
   "execution_count": 6,
   "metadata": {},
   "outputs": [],
   "source": [
    "from pyspark.sql.types import StructType, StructField, StringType, IntegerType"
   ]
  },
  {
   "cell_type": "code",
   "execution_count": 7,
   "metadata": {},
   "outputs": [],
   "source": [
    "constructors_schema = StructType([StructField(\"constructorId\", IntegerType(), False),\n",
    "                             StructField(\"constructorRef\", StringType(), False),\n",
    "                             StructField(\"name\", StringType(), False),\n",
    "                             StructField(\"nationality\", StringType(), False),\n",
    "                             StructField(\"url\", StringType(), False)])"
   ]
  },
  {
   "cell_type": "code",
   "execution_count": 8,
   "metadata": {},
   "outputs": [],
   "source": [
    "constructors_df = spark.read.json('../../raw/constructors.json', schema=constructors_schema)"
   ]
  },
  {
   "cell_type": "code",
   "execution_count": 10,
   "metadata": {},
   "outputs": [
    {
     "name": "stdout",
     "output_type": "stream",
     "text": [
      "+-------------+--------------+----------+-----------+--------------------+\n",
      "|constructorId|constructorRef|      name|nationality|                 url|\n",
      "+-------------+--------------+----------+-----------+--------------------+\n",
      "|            1|       mclaren|   McLaren|    British|http://en.wikiped...|\n",
      "|            2|    bmw_sauber|BMW Sauber|     German|http://en.wikiped...|\n",
      "|            3|      williams|  Williams|    British|http://en.wikiped...|\n",
      "|            4|       renault|   Renault|     French|http://en.wikiped...|\n",
      "|            5|    toro_rosso|Toro Rosso|    Italian|http://en.wikiped...|\n",
      "+-------------+--------------+----------+-----------+--------------------+\n",
      "only showing top 5 rows\n",
      "\n"
     ]
    }
   ],
   "source": [
    "constructors_df.show(5)"
   ]
  },
  {
   "cell_type": "code",
   "execution_count": 11,
   "metadata": {},
   "outputs": [],
   "source": [
    "from pyspark.sql.functions import current_timestamp"
   ]
  },
  {
   "cell_type": "code",
   "execution_count": 13,
   "metadata": {},
   "outputs": [],
   "source": [
    "constructors_df = constructors_df.withColumnRenamed('constructorId', 'constructor_id') \\\n",
    "                                .withColumnRenamed('constructorRef', 'constructor_ref') \\\n",
    "                                .withColumn('ingestion_date', current_timestamp())"
   ]
  },
  {
   "cell_type": "code",
   "execution_count": 14,
   "metadata": {},
   "outputs": [
    {
     "name": "stdout",
     "output_type": "stream",
     "text": [
      "+--------------+---------------+----------+-----------+--------------------+--------------------+\n",
      "|constructor_id|constructor_ref|      name|nationality|                 url|      ingestion_date|\n",
      "+--------------+---------------+----------+-----------+--------------------+--------------------+\n",
      "|             1|        mclaren|   McLaren|    British|http://en.wikiped...|2022-03-14 14:44:...|\n",
      "|             2|     bmw_sauber|BMW Sauber|     German|http://en.wikiped...|2022-03-14 14:44:...|\n",
      "|             3|       williams|  Williams|    British|http://en.wikiped...|2022-03-14 14:44:...|\n",
      "|             4|        renault|   Renault|     French|http://en.wikiped...|2022-03-14 14:44:...|\n",
      "|             5|     toro_rosso|Toro Rosso|    Italian|http://en.wikiped...|2022-03-14 14:44:...|\n",
      "+--------------+---------------+----------+-----------+--------------------+--------------------+\n",
      "only showing top 5 rows\n",
      "\n"
     ]
    }
   ],
   "source": [
    "constructors_df.show(5)"
   ]
  },
  {
   "cell_type": "code",
   "execution_count": 16,
   "metadata": {},
   "outputs": [],
   "source": [
    "constructors_df.write.mode('overwrite').parquet('../../processed/constructos')"
   ]
  },
  {
   "cell_type": "code",
   "execution_count": 17,
   "metadata": {},
   "outputs": [],
   "source": [
    "constructos = spark.read.parquet('../../processed/constructos')"
   ]
  },
  {
   "cell_type": "code",
   "execution_count": 18,
   "metadata": {},
   "outputs": [
    {
     "name": "stdout",
     "output_type": "stream",
     "text": [
      "+--------------+---------------+----------+-----------+--------------------+--------------------+\n",
      "|constructor_id|constructor_ref|      name|nationality|                 url|      ingestion_date|\n",
      "+--------------+---------------+----------+-----------+--------------------+--------------------+\n",
      "|             1|        mclaren|   McLaren|    British|http://en.wikiped...|2022-03-14 14:45:...|\n",
      "|             2|     bmw_sauber|BMW Sauber|     German|http://en.wikiped...|2022-03-14 14:45:...|\n",
      "|             3|       williams|  Williams|    British|http://en.wikiped...|2022-03-14 14:45:...|\n",
      "|             4|        renault|   Renault|     French|http://en.wikiped...|2022-03-14 14:45:...|\n",
      "|             5|     toro_rosso|Toro Rosso|    Italian|http://en.wikiped...|2022-03-14 14:45:...|\n",
      "+--------------+---------------+----------+-----------+--------------------+--------------------+\n",
      "only showing top 5 rows\n",
      "\n"
     ]
    }
   ],
   "source": [
    "constructos.show(5)"
   ]
  }
 ],
 "metadata": {
  "kernelspec": {
   "display_name": "Python 3",
   "language": "python",
   "name": "python3"
  },
  "language_info": {
   "codemirror_mode": {
    "name": "ipython",
    "version": 3
   },
   "file_extension": ".py",
   "mimetype": "text/x-python",
   "name": "python",
   "nbconvert_exporter": "python",
   "pygments_lexer": "ipython3",
   "version": "3.8.5"
  }
 },
 "nbformat": 4,
 "nbformat_minor": 4
}
