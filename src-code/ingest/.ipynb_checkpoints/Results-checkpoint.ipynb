{
 "cells": [
  {
   "cell_type": "code",
   "execution_count": 15,
   "metadata": {},
   "outputs": [],
   "source": [
    "from pyspark.sql import SparkSession\n",
    "spark = SparkSession.builder.appName('results').getOrCreate()"
   ]
  },
  {
   "cell_type": "code",
   "execution_count": 16,
   "metadata": {},
   "outputs": [],
   "source": [
    "from pyspark.sql.types import StructType, StructField, StringType, IntegerType, FloatType"
   ]
  },
  {
   "cell_type": "code",
   "execution_count": 17,
   "metadata": {},
   "outputs": [],
   "source": [
    "results_schema = StructType([StructField(\"resultId\", IntegerType(), False),\n",
    "                             StructField(\"raceId\", IntegerType(), False),\n",
    "                             StructField(\"driverId\", IntegerType(), False),\n",
    "                             StructField(\"constructorId\", IntegerType(), False),\n",
    "                             StructField(\"number\", IntegerType(), False),\n",
    "                             StructField(\"grid\", IntegerType(), False),\n",
    "                             StructField(\"position\", IntegerType(), False),\n",
    "                             StructField(\"positionText\", StringType(), False),\n",
    "                             StructField(\"positionOrder\", IntegerType(), False),\n",
    "                             StructField(\"points\", FloatType(), False),\n",
    "                             StructField(\"laps\", IntegerType(), False),\n",
    "                             StructField(\"time\", StringType(), False),\n",
    "                             StructField(\"milliseconds\", IntegerType(), False),\n",
    "                             StructField(\"fastestLap\", IntegerType(), False),\n",
    "                             StructField(\"rank\", IntegerType(), False),\n",
    "                             StructField(\"fastestLapTime\", StringType(), False),\n",
    "                             StructField(\"fastestLapSpeed\", FloatType(), False),\n",
    "                             StructField(\"statusId\", StringType(), False)])"
   ]
  },
  {
   "cell_type": "code",
   "execution_count": 18,
   "metadata": {},
   "outputs": [],
   "source": [
    "results_df = spark.read.json('../../raw/results.json', schema=results_schema)"
   ]
  },
  {
   "cell_type": "code",
   "execution_count": 19,
   "metadata": {},
   "outputs": [
    {
     "name": "stdout",
     "output_type": "stream",
     "text": [
      "+--------+------+--------+-------------+------+----+--------+------------+-------------+------+----+-----------+------------+----------+----+--------------+---------------+--------+\n",
      "|resultId|raceId|driverId|constructorId|number|grid|position|positionText|positionOrder|points|laps|       time|milliseconds|fastestLap|rank|fastestLapTime|fastestLapSpeed|statusId|\n",
      "+--------+------+--------+-------------+------+----+--------+------------+-------------+------+----+-----------+------------+----------+----+--------------+---------------+--------+\n",
      "|       1|    18|       1|            1|    22|   1|       1|           1|            1|  10.0|  58|1:34:50.616|     5690616|        39|   2|      1:27.452|          218.3|       1|\n",
      "|       2|    18|       2|            2|     3|   5|       2|           2|            2|   8.0|  58|     +5.478|     5696094|        41|   3|      1:27.739|        217.586|       1|\n",
      "|       3|    18|       3|            3|     7|   7|       3|           3|            3|   6.0|  58|     +8.163|     5698779|        41|   5|      1:28.090|        216.719|       1|\n",
      "|       4|    18|       4|            4|     5|  11|       4|           4|            4|   5.0|  58|    +17.181|     5707797|        58|   7|      1:28.603|        215.464|       1|\n",
      "|       5|    18|       5|            1|    23|   3|       5|           5|            5|   4.0|  58|    +18.014|     5708630|        43|   1|      1:27.418|        218.385|       1|\n",
      "|       6|    18|       6|            3|     8|  13|       6|           6|            6|   3.0|  57|         \\N|        null|        50|  14|      1:29.639|        212.974|      11|\n",
      "|       7|    18|       7|            5|    14|  17|       7|           7|            7|   2.0|  55|         \\N|        null|        22|  12|      1:29.534|        213.224|       5|\n",
      "|       8|    18|       8|            6|     1|  15|       8|           8|            8|   1.0|  53|         \\N|        null|        20|   4|      1:27.903|         217.18|       5|\n",
      "|       9|    18|       9|            2|     4|   2|    null|           R|            9|   0.0|  47|         \\N|        null|        15|   9|      1:28.753|          215.1|       4|\n",
      "|      10|    18|      10|            7|    12|  18|    null|           R|           10|   0.0|  43|         \\N|        null|        23|  13|      1:29.558|        213.166|       3|\n",
      "+--------+------+--------+-------------+------+----+--------+------------+-------------+------+----+-----------+------------+----------+----+--------------+---------------+--------+\n",
      "only showing top 10 rows\n",
      "\n"
     ]
    }
   ],
   "source": [
    "results_df.show(10)"
   ]
  },
  {
   "cell_type": "code",
   "execution_count": 20,
   "metadata": {},
   "outputs": [],
   "source": [
    "from pyspark.sql.functions import current_timestamp"
   ]
  },
  {
   "cell_type": "code",
   "execution_count": 21,
   "metadata": {},
   "outputs": [],
   "source": [
    "results_df = results_df.withColumnRenamed('resultId', 'result_id') \\\n",
    "                        .withColumnRenamed('raceId', 'race_id') \\\n",
    "                        .withColumnRenamed('driverId', 'driver_id') \\\n",
    "                        .withColumnRenamed('constructorId', 'constructor_id') \\\n",
    "                        .withColumnRenamed('positionText', 'position_text') \\\n",
    "                        .withColumnRenamed('positionOrder', 'position_order') \\\n",
    "                        .withColumnRenamed('fastestLapTime', 'fastest_lap_time') \\\n",
    "                        .withColumnRenamed('fastestLapSpeed', 'fastest_lap_speed') \\\n",
    "                        .withColumn('ingestion_date', current_timestamp()) \\\n",
    "                        .drop('statusId')"
   ]
  },
  {
   "cell_type": "code",
   "execution_count": 22,
   "metadata": {},
   "outputs": [
    {
     "name": "stdout",
     "output_type": "stream",
     "text": [
      "+---------+-------+---------+--------------+------+----+--------+-------------+--------------+------+----+-----------+------------+----------+----+----------------+-----------------+--------------------+\n",
      "|result_id|race_id|driver_id|constructor_id|number|grid|position|position_text|position_order|points|laps|       time|milliseconds|fastestLap|rank|fastest_lap_time|fastest_lap_speed|      ingestion_date|\n",
      "+---------+-------+---------+--------------+------+----+--------+-------------+--------------+------+----+-----------+------------+----------+----+----------------+-----------------+--------------------+\n",
      "|        1|     18|        1|             1|    22|   1|       1|            1|             1|  10.0|  58|1:34:50.616|     5690616|        39|   2|        1:27.452|            218.3|2022-03-14 16:51:...|\n",
      "|        2|     18|        2|             2|     3|   5|       2|            2|             2|   8.0|  58|     +5.478|     5696094|        41|   3|        1:27.739|          217.586|2022-03-14 16:51:...|\n",
      "|        3|     18|        3|             3|     7|   7|       3|            3|             3|   6.0|  58|     +8.163|     5698779|        41|   5|        1:28.090|          216.719|2022-03-14 16:51:...|\n",
      "|        4|     18|        4|             4|     5|  11|       4|            4|             4|   5.0|  58|    +17.181|     5707797|        58|   7|        1:28.603|          215.464|2022-03-14 16:51:...|\n",
      "|        5|     18|        5|             1|    23|   3|       5|            5|             5|   4.0|  58|    +18.014|     5708630|        43|   1|        1:27.418|          218.385|2022-03-14 16:51:...|\n",
      "+---------+-------+---------+--------------+------+----+--------+-------------+--------------+------+----+-----------+------------+----------+----+----------------+-----------------+--------------------+\n",
      "only showing top 5 rows\n",
      "\n"
     ]
    }
   ],
   "source": [
    "results_df.show(5)"
   ]
  },
  {
   "cell_type": "code",
   "execution_count": 23,
   "metadata": {},
   "outputs": [
    {
     "name": "stdout",
     "output_type": "stream",
     "text": [
      "+---------+-------+---------+--------------+------+----+--------+-------------+--------------+------+----+-----------+------------+----------+----+----------------+-----------------+--------------------+\n",
      "|result_id|race_id|driver_id|constructor_id|number|grid|position|position_text|position_order|points|laps|       time|milliseconds|fastestLap|rank|fastest_lap_time|fastest_lap_speed|      ingestion_date|\n",
      "+---------+-------+---------+--------------+------+----+--------+-------------+--------------+------+----+-----------+------------+----------+----+----------------+-----------------+--------------------+\n",
      "|        1|     18|        1|             1|    22|   1|       1|            1|             1|  10.0|  58|1:34:50.616|     5690616|        39|   2|        1:27.452|            218.3|2022-03-14 16:51:...|\n",
      "|        2|     18|        2|             2|     3|   5|       2|            2|             2|   8.0|  58|     +5.478|     5696094|        41|   3|        1:27.739|          217.586|2022-03-14 16:51:...|\n",
      "|        3|     18|        3|             3|     7|   7|       3|            3|             3|   6.0|  58|     +8.163|     5698779|        41|   5|        1:28.090|          216.719|2022-03-14 16:51:...|\n",
      "|        4|     18|        4|             4|     5|  11|       4|            4|             4|   5.0|  58|    +17.181|     5707797|        58|   7|        1:28.603|          215.464|2022-03-14 16:51:...|\n",
      "|        5|     18|        5|             1|    23|   3|       5|            5|             5|   4.0|  58|    +18.014|     5708630|        43|   1|        1:27.418|          218.385|2022-03-14 16:51:...|\n",
      "+---------+-------+---------+--------------+------+----+--------+-------------+--------------+------+----+-----------+------------+----------+----+----------------+-----------------+--------------------+\n",
      "only showing top 5 rows\n",
      "\n"
     ]
    }
   ],
   "source": [
    "results_df.write.mode('overwrite').parquet('../../processed/results')\n",
    "\n",
    "# Test\n",
    "results = spark.read.parquet('../../processed/results/')\n",
    "results.show(5)"
   ]
  }
 ],
 "metadata": {
  "kernelspec": {
   "display_name": "Python 3",
   "language": "python",
   "name": "python3"
  },
  "language_info": {
   "codemirror_mode": {
    "name": "ipython",
    "version": 3
   },
   "file_extension": ".py",
   "mimetype": "text/x-python",
   "name": "python",
   "nbconvert_exporter": "python",
   "pygments_lexer": "ipython3",
   "version": "3.8.5"
  }
 },
 "nbformat": 4,
 "nbformat_minor": 4
}
