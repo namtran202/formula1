{
 "cells": [
  {
   "cell_type": "code",
   "execution_count": 1,
   "metadata": {},
   "outputs": [],
   "source": [
    "from pyspark.sql import SparkSession\n",
    "spark = SparkSession.builder.appName('qualifying').getOrCreate()"
   ]
  },
  {
   "cell_type": "code",
   "execution_count": 4,
   "metadata": {},
   "outputs": [],
   "source": [
    "from pyspark.sql.types import StructType, StructField, StringType, IntegerType"
   ]
  },
  {
   "cell_type": "code",
   "execution_count": 5,
   "metadata": {},
   "outputs": [],
   "source": [
    "qualifying_schema = StructType([StructField(\"qualifyId\", IntegerType(), False),\n",
    "                             StructField(\"raceId\", IntegerType(), True),\n",
    "                             StructField(\"driverId\", IntegerType(), True),\n",
    "                             StructField(\"constructorId\", IntegerType(), True),\n",
    "                             StructField(\"number\", IntegerType(), True),\n",
    "                             StructField(\"position\", IntegerType(), True),\n",
    "                             StructField(\"q1\", StringType(), True),\n",
    "                             StructField(\"q2\", StringType(), True),\n",
    "                             StructField(\"q3\", StringType(), True)])"
   ]
  },
  {
   "cell_type": "code",
   "execution_count": 9,
   "metadata": {},
   "outputs": [],
   "source": [
    "qualifying_df = spark.read.json('../../raw/qualifying/', schema=qualifying_schema, multiLine=True)"
   ]
  },
  {
   "cell_type": "code",
   "execution_count": 10,
   "metadata": {},
   "outputs": [
    {
     "name": "stdout",
     "output_type": "stream",
     "text": [
      "+---------+------+--------+-------------+------+--------+--------+--------+--------+\n",
      "|qualifyId|raceId|driverId|constructorId|number|position|      q1|      q2|      q3|\n",
      "+---------+------+--------+-------------+------+--------+--------+--------+--------+\n",
      "|        1|    18|       1|            1|    22|       1|1:26.572|1:25.187|1:26.714|\n",
      "|        2|    18|       9|            2|     4|       2|1:26.103|1:25.315|1:26.869|\n",
      "|        3|    18|       5|            1|    23|       3|1:25.664|1:25.452|1:27.079|\n",
      "|        4|    18|      13|            6|     2|       4|1:25.994|1:25.691|1:27.178|\n",
      "|        5|    18|       2|            2|     3|       5|1:25.960|1:25.518|1:27.236|\n",
      "+---------+------+--------+-------------+------+--------+--------+--------+--------+\n",
      "only showing top 5 rows\n",
      "\n"
     ]
    }
   ],
   "source": [
    "qualifying_df.show(5)"
   ]
  },
  {
   "cell_type": "code",
   "execution_count": 11,
   "metadata": {},
   "outputs": [],
   "source": [
    "from pyspark.sql.functions import current_timestamp"
   ]
  },
  {
   "cell_type": "code",
   "execution_count": 13,
   "metadata": {},
   "outputs": [],
   "source": [
    "qualifying_df = qualifying_df.withColumnRenamed('qualifyId', 'qualify_id') \\\n",
    "                            .withColumnRenamed('raceId', 'race_id') \\\n",
    "                            .withColumnRenamed('driverId', 'driver_id') \\\n",
    "                            .withColumnRenamed('constructorId', 'constructor_id') \\\n",
    "                            .withColumn('ingestion_date', current_timestamp())"
   ]
  },
  {
   "cell_type": "code",
   "execution_count": 14,
   "metadata": {},
   "outputs": [
    {
     "name": "stdout",
     "output_type": "stream",
     "text": [
      "+----------+-------+---------+--------------+------+--------+--------+--------+--------+--------------------+\n",
      "|qualify_id|race_id|driver_id|constructor_id|number|position|      q1|      q2|      q3|      ingestion_date|\n",
      "+----------+-------+---------+--------------+------+--------+--------+--------+--------+--------------------+\n",
      "|         1|     18|        1|             1|    22|       1|1:26.572|1:25.187|1:26.714|2022-03-16 14:54:...|\n",
      "|         2|     18|        9|             2|     4|       2|1:26.103|1:25.315|1:26.869|2022-03-16 14:54:...|\n",
      "|         3|     18|        5|             1|    23|       3|1:25.664|1:25.452|1:27.079|2022-03-16 14:54:...|\n",
      "|         4|     18|       13|             6|     2|       4|1:25.994|1:25.691|1:27.178|2022-03-16 14:54:...|\n",
      "|         5|     18|        2|             2|     3|       5|1:25.960|1:25.518|1:27.236|2022-03-16 14:54:...|\n",
      "+----------+-------+---------+--------------+------+--------+--------+--------+--------+--------------------+\n",
      "only showing top 5 rows\n",
      "\n"
     ]
    }
   ],
   "source": [
    "qualifying_df.show(5)"
   ]
  },
  {
   "cell_type": "code",
   "execution_count": 15,
   "metadata": {},
   "outputs": [],
   "source": [
    "qualifying_df.write.mode('overwrite').parquet('../../processed/qualifying')"
   ]
  },
  {
   "cell_type": "code",
   "execution_count": 16,
   "metadata": {},
   "outputs": [
    {
     "name": "stdout",
     "output_type": "stream",
     "text": [
      "+----------+-------+---------+--------------+------+--------+--------+--------+--------+--------------------+\n",
      "|qualify_id|race_id|driver_id|constructor_id|number|position|      q1|      q2|      q3|      ingestion_date|\n",
      "+----------+-------+---------+--------------+------+--------+--------+--------+--------+--------------------+\n",
      "|         1|     18|        1|             1|    22|       1|1:26.572|1:25.187|1:26.714|2022-03-16 14:56:...|\n",
      "|         2|     18|        9|             2|     4|       2|1:26.103|1:25.315|1:26.869|2022-03-16 14:56:...|\n",
      "|         3|     18|        5|             1|    23|       3|1:25.664|1:25.452|1:27.079|2022-03-16 14:56:...|\n",
      "|         4|     18|       13|             6|     2|       4|1:25.994|1:25.691|1:27.178|2022-03-16 14:56:...|\n",
      "|         5|     18|        2|             2|     3|       5|1:25.960|1:25.518|1:27.236|2022-03-16 14:56:...|\n",
      "+----------+-------+---------+--------------+------+--------+--------+--------+--------+--------------------+\n",
      "only showing top 5 rows\n",
      "\n"
     ]
    }
   ],
   "source": [
    "# Test\n",
    "qualifying = spark.read.parquet('../../processed/qualifying/', header=True)\n",
    "qualifying.show(5)"
   ]
  }
 ],
 "metadata": {
  "kernelspec": {
   "display_name": "Python 3",
   "language": "python",
   "name": "python3"
  },
  "language_info": {
   "codemirror_mode": {
    "name": "ipython",
    "version": 3
   },
   "file_extension": ".py",
   "mimetype": "text/x-python",
   "name": "python",
   "nbconvert_exporter": "python",
   "pygments_lexer": "ipython3",
   "version": "3.8.5"
  }
 },
 "nbformat": 4,
 "nbformat_minor": 4
}
