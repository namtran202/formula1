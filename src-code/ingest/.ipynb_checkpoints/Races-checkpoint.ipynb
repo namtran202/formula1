{
 "cells": [
  {
   "cell_type": "code",
   "execution_count": 79,
   "metadata": {},
   "outputs": [],
   "source": [
    "from pyspark.sql import SparkSession\n",
    "spark = SparkSession.builder.appName('circuits').getOrCreate()"
   ]
  },
  {
   "cell_type": "code",
   "execution_count": 80,
   "metadata": {},
   "outputs": [],
   "source": [
    "from pyspark.sql.types import StructType, StructField, StringType, IntegerType, DoubleType, DateType"
   ]
  },
  {
   "cell_type": "code",
   "execution_count": 81,
   "metadata": {},
   "outputs": [],
   "source": [
    "races_schema = StructType([StructField(\"raceId\", IntegerType(), False),\n",
    "                             StructField(\"year\", IntegerType(), False),\n",
    "                             StructField(\"round\", IntegerType(), False),\n",
    "                             StructField(\"circuitId\", IntegerType(), False),\n",
    "                             StructField(\"name\", StringType(), False),\n",
    "                             StructField(\"date\", DateType(), False),\n",
    "                             StructField(\"time\", StringType(), False),\n",
    "                             StructField(\"url\", StringType(), False)])"
   ]
  },
  {
   "cell_type": "code",
   "execution_count": 82,
   "metadata": {},
   "outputs": [],
   "source": [
    "races_df = spark.read.csv('../../raw/races.csv', schema=races_schema, header=True)"
   ]
  },
  {
   "cell_type": "code",
   "execution_count": 83,
   "metadata": {},
   "outputs": [
    {
     "name": "stdout",
     "output_type": "stream",
     "text": [
      "+------+----+-----+---------+--------------------+----------+--------+--------------------+\n",
      "|raceId|year|round|circuitId|                name|      date|    time|                 url|\n",
      "+------+----+-----+---------+--------------------+----------+--------+--------------------+\n",
      "|     1|2009|    1|        1|Australian Grand ...|2009-03-29|06:00:00|http://en.wikiped...|\n",
      "|     2|2009|    2|        2|Malaysian Grand Prix|2009-04-05|09:00:00|http://en.wikiped...|\n",
      "|     3|2009|    3|       17|  Chinese Grand Prix|2009-04-19|07:00:00|http://en.wikiped...|\n",
      "|     4|2009|    4|        3|  Bahrain Grand Prix|2009-04-26|12:00:00|http://en.wikiped...|\n",
      "|     5|2009|    5|        4|  Spanish Grand Prix|2009-05-10|12:00:00|http://en.wikiped...|\n",
      "+------+----+-----+---------+--------------------+----------+--------+--------------------+\n",
      "only showing top 5 rows\n",
      "\n"
     ]
    }
   ],
   "source": [
    "races_df.show(5)"
   ]
  },
  {
   "cell_type": "code",
   "execution_count": 84,
   "metadata": {},
   "outputs": [],
   "source": [
    "races_df = races_df.withColumnRenamed('raceId', 'race_id') \\\n",
    "                    .withColumnRenamed('year', 'race_year') \\\n",
    "                    .withColumnRenamed('circuitId', ('circuit_id'))"
   ]
  },
  {
   "cell_type": "code",
   "execution_count": 85,
   "metadata": {},
   "outputs": [],
   "source": [
    "from pyspark.sql.functions import current_timestamp, lit, concat, to_timestamp, col"
   ]
  },
  {
   "cell_type": "code",
   "execution_count": 86,
   "metadata": {},
   "outputs": [],
   "source": [
    "races_df = races_df.withColumn('race_timestamp', to_timestamp(concat(col('date'), lit(' '), col('time')))) \\\n",
    "                    .withColumn('ingestion_date', current_timestamp())"
   ]
  },
  {
   "cell_type": "code",
   "execution_count": 87,
   "metadata": {},
   "outputs": [],
   "source": [
    "races_df = races_df.drop('date', 'time')"
   ]
  },
  {
   "cell_type": "code",
   "execution_count": 88,
   "metadata": {},
   "outputs": [
    {
     "name": "stdout",
     "output_type": "stream",
     "text": [
      "+-------+---------+-----+----------+--------------------+--------------------+-------------------+--------------------+\n",
      "|race_id|race_year|round|circuit_id|                name|                 url|     race_timestamp|      ingestion_date|\n",
      "+-------+---------+-----+----------+--------------------+--------------------+-------------------+--------------------+\n",
      "|      1|     2009|    1|         1|Australian Grand ...|http://en.wikiped...|2009-03-29 06:00:00|2022-03-14 14:29:...|\n",
      "|      2|     2009|    2|         2|Malaysian Grand Prix|http://en.wikiped...|2009-04-05 09:00:00|2022-03-14 14:29:...|\n",
      "|      3|     2009|    3|        17|  Chinese Grand Prix|http://en.wikiped...|2009-04-19 07:00:00|2022-03-14 14:29:...|\n",
      "|      4|     2009|    4|         3|  Bahrain Grand Prix|http://en.wikiped...|2009-04-26 12:00:00|2022-03-14 14:29:...|\n",
      "|      5|     2009|    5|         4|  Spanish Grand Prix|http://en.wikiped...|2009-05-10 12:00:00|2022-03-14 14:29:...|\n",
      "+-------+---------+-----+----------+--------------------+--------------------+-------------------+--------------------+\n",
      "only showing top 5 rows\n",
      "\n"
     ]
    }
   ],
   "source": [
    "races_df.show(5)"
   ]
  },
  {
   "cell_type": "code",
   "execution_count": 89,
   "metadata": {},
   "outputs": [],
   "source": [
    "races_df.write.mode('overwrite').partitionBy('race_year').parquet('../../processed/races')"
   ]
  },
  {
   "cell_type": "code",
   "execution_count": 90,
   "metadata": {},
   "outputs": [],
   "source": [
    "races = spark.read.parquet('../../processed/races')"
   ]
  },
  {
   "cell_type": "code",
   "execution_count": 91,
   "metadata": {},
   "outputs": [
    {
     "name": "stdout",
     "output_type": "stream",
     "text": [
      "+-------+-----+----------+--------------------+--------------------+-------------------+--------------------+---------+\n",
      "|race_id|round|circuit_id|                name|                 url|     race_timestamp|      ingestion_date|race_year|\n",
      "+-------+-----+----------+--------------------+--------------------+-------------------+--------------------+---------+\n",
      "|   1053|    2|        21|Emilia Romagna Gr...|http://en.wikiped...|2021-04-18 13:00:00|2022-03-14 14:29:...|     2021|\n",
      "|   1052|    1|         3|  Bahrain Grand Prix|http://en.wikiped...|2021-03-28 15:00:00|2022-03-14 14:29:...|     2021|\n",
      "|   1051|   21|         1|Australian Grand ...|http://en.wikiped...|2021-11-21 06:00:00|2022-03-14 14:29:...|     2021|\n",
      "|   1054|    3|        20|                 TBC|http://en.wikiped...|               null|2022-03-14 14:29:...|     2021|\n",
      "|   1055|    4|         4|  Spanish Grand Prix|http://en.wikiped...|2021-05-09 13:00:00|2022-03-14 14:29:...|     2021|\n",
      "+-------+-----+----------+--------------------+--------------------+-------------------+--------------------+---------+\n",
      "only showing top 5 rows\n",
      "\n"
     ]
    }
   ],
   "source": [
    "races.show(5)"
   ]
  }
 ],
 "metadata": {
  "kernelspec": {
   "display_name": "Python 3",
   "language": "python",
   "name": "python3"
  },
  "language_info": {
   "codemirror_mode": {
    "name": "ipython",
    "version": 3
   },
   "file_extension": ".py",
   "mimetype": "text/x-python",
   "name": "python",
   "nbconvert_exporter": "python",
   "pygments_lexer": "ipython3",
   "version": "3.8.5"
  }
 },
 "nbformat": 4,
 "nbformat_minor": 4
}
