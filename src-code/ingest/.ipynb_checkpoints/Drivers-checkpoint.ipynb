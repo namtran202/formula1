{
 "cells": [
  {
   "cell_type": "code",
   "execution_count": 3,
   "metadata": {},
   "outputs": [],
   "source": [
    "from pyspark.sql import SparkSession\n",
    "spark = SparkSession.builder.appName('drivers').getOrCreate()"
   ]
  },
  {
   "cell_type": "code",
   "execution_count": 4,
   "metadata": {},
   "outputs": [],
   "source": [
    "from pyspark.sql.types import StructType, StructField, StringType, IntegerType, DoubleType"
   ]
  },
  {
   "cell_type": "code",
   "execution_count": null,
   "metadata": {},
   "outputs": [],
   "source": [
    "circuits_schema = StructType([StructField(\"driverId\", IntegerType(), False),\n",
    "                             StructField(\"driverRef\", StringType(), False),\n",
    "                             StructField(\"number\", StringType(), False),\n",
    "                             StructField(\"code\", StringType(), False),\n",
    "                             StructField(\"name\", StringType(), False),\n",
    "                             StructField(\"dob\", DoubleType(), False),\n",
    "                             StructField(\"nationality\", DoubleType(), False),\n",
    "                             StructField(\"url\", StringType(), False)])"
   ]
  }
 ],
 "metadata": {
  "kernelspec": {
   "display_name": "Python 3",
   "language": "python",
   "name": "python3"
  },
  "language_info": {
   "codemirror_mode": {
    "name": "ipython",
    "version": 3
   },
   "file_extension": ".py",
   "mimetype": "text/x-python",
   "name": "python",
   "nbconvert_exporter": "python",
   "pygments_lexer": "ipython3",
   "version": "3.8.5"
  }
 },
 "nbformat": 4,
 "nbformat_minor": 4
}
