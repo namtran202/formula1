{
 "cells": [
  {
   "cell_type": "code",
   "execution_count": 9,
   "metadata": {},
   "outputs": [],
   "source": [
    "from pyspark.sql import SparkSession\n",
    "spark = SparkSession.builder.appName('pitstops').getOrCreate()"
   ]
  },
  {
   "cell_type": "code",
   "execution_count": 10,
   "metadata": {},
   "outputs": [],
   "source": [
    "from pyspark.sql.types import StructType, StructField, StringType, IntegerType, DateType\n",
    "\n",
    "pitstops_schema = StructType([StructField(\"raceId\", IntegerType(), False),\n",
    "                             StructField(\"driverId\", IntegerType(), False),\n",
    "                             StructField(\"stop\", StringType(), False),\n",
    "                             StructField(\"lap\", IntegerType(), False),\n",
    "                             StructField(\"time\", StringType(), False),\n",
    "                             StructField(\"duration\", StringType(), False),\n",
    "                             StructField(\"milliseconds\", IntegerType(), False)])"
   ]
  },
  {
   "cell_type": "code",
   "execution_count": 11,
   "metadata": {},
   "outputs": [],
   "source": [
    "pitstops_df = spark.read.json('../../raw/pit_stops.json', schema=pitstops_schema, multiLine=True)"
   ]
  },
  {
   "cell_type": "code",
   "execution_count": 12,
   "metadata": {},
   "outputs": [
    {
     "name": "stdout",
     "output_type": "stream",
     "text": [
      "+------+--------+----+---+--------+--------+------------+\n",
      "|raceId|driverId|stop|lap|    time|duration|milliseconds|\n",
      "+------+--------+----+---+--------+--------+------------+\n",
      "|   841|     153|   1|  1|17:05:23|  26.898|       26898|\n",
      "|   841|      30|   1|  1|17:05:52|  25.021|       25021|\n",
      "|   841|      17|   1| 11|17:20:48|  23.426|       23426|\n",
      "|   841|       4|   1| 12|17:22:34|  23.251|       23251|\n",
      "|   841|      13|   1| 13|17:24:10|  23.842|       23842|\n",
      "+------+--------+----+---+--------+--------+------------+\n",
      "only showing top 5 rows\n",
      "\n"
     ]
    }
   ],
   "source": [
    "pitstops_df.show(5)"
   ]
  },
  {
   "cell_type": "code",
   "execution_count": 13,
   "metadata": {},
   "outputs": [],
   "source": [
    "from pyspark.sql.functions import current_timestamp"
   ]
  },
  {
   "cell_type": "code",
   "execution_count": 14,
   "metadata": {},
   "outputs": [],
   "source": [
    "pitstops_df = pitstops_df.withColumnRenamed('raceId', 'race_id') \\\n",
    "                        .withColumnRenamed('driverId', 'driver_id') \\\n",
    "                        .withColumn('ingestion_date', current_timestamp())"
   ]
  },
  {
   "cell_type": "code",
   "execution_count": 15,
   "metadata": {},
   "outputs": [
    {
     "name": "stdout",
     "output_type": "stream",
     "text": [
      "+-------+---------+----+---+--------+--------+------------+--------------------+\n",
      "|race_id|driver_id|stop|lap|    time|duration|milliseconds|      ingestion_date|\n",
      "+-------+---------+----+---+--------+--------+------------+--------------------+\n",
      "|    841|      153|   1|  1|17:05:23|  26.898|       26898|2022-03-14 17:51:...|\n",
      "|    841|       30|   1|  1|17:05:52|  25.021|       25021|2022-03-14 17:51:...|\n",
      "|    841|       17|   1| 11|17:20:48|  23.426|       23426|2022-03-14 17:51:...|\n",
      "|    841|        4|   1| 12|17:22:34|  23.251|       23251|2022-03-14 17:51:...|\n",
      "|    841|       13|   1| 13|17:24:10|  23.842|       23842|2022-03-14 17:51:...|\n",
      "+-------+---------+----+---+--------+--------+------------+--------------------+\n",
      "only showing top 5 rows\n",
      "\n"
     ]
    }
   ],
   "source": [
    "pitstops_df.write.mode('overwrite').parquet('../../processed/pitstops')\n",
    "\n",
    "# Test\n",
    "pitstops = spark.read.parquet('../../processed/pitstops')\n",
    "pitstops.show(5)"
   ]
  }
 ],
 "metadata": {
  "kernelspec": {
   "display_name": "Python 3",
   "language": "python",
   "name": "python3"
  },
  "language_info": {
   "codemirror_mode": {
    "name": "ipython",
    "version": 3
   },
   "file_extension": ".py",
   "mimetype": "text/x-python",
   "name": "python",
   "nbconvert_exporter": "python",
   "pygments_lexer": "ipython3",
   "version": "3.8.5"
  }
 },
 "nbformat": 4,
 "nbformat_minor": 4
}
